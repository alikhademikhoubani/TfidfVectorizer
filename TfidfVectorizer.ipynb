{
 "cells": [
  {
   "cell_type": "code",
   "execution_count": 20,
   "id": "f7dc90f1-ac35-4e91-b868-a811569ba1ec",
   "metadata": {},
   "outputs": [],
   "source": [
    "import pandas as pd\n",
    "import numpy as np\n",
    "from sklearn.feature_extraction.text import TfidfVectorizer"
   ]
  },
  {
   "cell_type": "code",
   "execution_count": 21,
   "id": "7fa4ab58-b9bb-4c6f-967f-40c3425f92f5",
   "metadata": {},
   "outputs": [
    {
     "data": {
      "text/html": [
       "<div>\n",
       "<style scoped>\n",
       "    .dataframe tbody tr th:only-of-type {\n",
       "        vertical-align: middle;\n",
       "    }\n",
       "\n",
       "    .dataframe tbody tr th {\n",
       "        vertical-align: top;\n",
       "    }\n",
       "\n",
       "    .dataframe thead th {\n",
       "        text-align: right;\n",
       "    }\n",
       "</style>\n",
       "<table border=\"1\" class=\"dataframe\">\n",
       "  <thead>\n",
       "    <tr style=\"text-align: right;\">\n",
       "      <th></th>\n",
       "      <th>id</th>\n",
       "      <th>title</th>\n",
       "      <th>author</th>\n",
       "      <th>text</th>\n",
       "      <th>label</th>\n",
       "    </tr>\n",
       "  </thead>\n",
       "  <tbody>\n",
       "    <tr>\n",
       "      <th>20795</th>\n",
       "      <td>20795</td>\n",
       "      <td>Rapper T.I.: Trump a ’Poster Child For White S...</td>\n",
       "      <td>Jerome Hudson</td>\n",
       "      <td>Rapper T. I. unloaded on black celebrities who...</td>\n",
       "      <td>0</td>\n",
       "    </tr>\n",
       "    <tr>\n",
       "      <th>20796</th>\n",
       "      <td>20796</td>\n",
       "      <td>N.F.L. Playoffs: Schedule, Matchups and Odds -...</td>\n",
       "      <td>Benjamin Hoffman</td>\n",
       "      <td>When the Green Bay Packers lost to the Washing...</td>\n",
       "      <td>0</td>\n",
       "    </tr>\n",
       "    <tr>\n",
       "      <th>20797</th>\n",
       "      <td>20797</td>\n",
       "      <td>Macy’s Is Said to Receive Takeover Approach by...</td>\n",
       "      <td>Michael J. de la Merced and Rachel Abrams</td>\n",
       "      <td>The Macy’s of today grew from the union of sev...</td>\n",
       "      <td>0</td>\n",
       "    </tr>\n",
       "    <tr>\n",
       "      <th>20798</th>\n",
       "      <td>20798</td>\n",
       "      <td>NATO, Russia To Hold Parallel Exercises In Bal...</td>\n",
       "      <td>Alex Ansary</td>\n",
       "      <td>NATO, Russia To Hold Parallel Exercises In Bal...</td>\n",
       "      <td>1</td>\n",
       "    </tr>\n",
       "    <tr>\n",
       "      <th>20799</th>\n",
       "      <td>20799</td>\n",
       "      <td>What Keeps the F-35 Alive</td>\n",
       "      <td>David Swanson</td>\n",
       "      <td>David Swanson is an author, activist, journa...</td>\n",
       "      <td>1</td>\n",
       "    </tr>\n",
       "  </tbody>\n",
       "</table>\n",
       "</div>"
      ],
      "text/plain": [
       "          id                                              title  \\\n",
       "20795  20795  Rapper T.I.: Trump a ’Poster Child For White S...   \n",
       "20796  20796  N.F.L. Playoffs: Schedule, Matchups and Odds -...   \n",
       "20797  20797  Macy’s Is Said to Receive Takeover Approach by...   \n",
       "20798  20798  NATO, Russia To Hold Parallel Exercises In Bal...   \n",
       "20799  20799                          What Keeps the F-35 Alive   \n",
       "\n",
       "                                          author  \\\n",
       "20795                              Jerome Hudson   \n",
       "20796                           Benjamin Hoffman   \n",
       "20797  Michael J. de la Merced and Rachel Abrams   \n",
       "20798                                Alex Ansary   \n",
       "20799                              David Swanson   \n",
       "\n",
       "                                                    text  label  \n",
       "20795  Rapper T. I. unloaded on black celebrities who...      0  \n",
       "20796  When the Green Bay Packers lost to the Washing...      0  \n",
       "20797  The Macy’s of today grew from the union of sev...      0  \n",
       "20798  NATO, Russia To Hold Parallel Exercises In Bal...      1  \n",
       "20799    David Swanson is an author, activist, journa...      1  "
      ]
     },
     "execution_count": 21,
     "metadata": {},
     "output_type": "execute_result"
    }
   ],
   "source": [
    "news_dataset=pd.read_csv('train.csv')\n",
    "news_dataset.tail()"
   ]
  },
  {
   "cell_type": "code",
   "execution_count": 22,
   "id": "e44483c2-2d40-4e26-bb04-b742a81aabad",
   "metadata": {},
   "outputs": [
    {
     "data": {
      "text/plain": [
       "(20800, 5)"
      ]
     },
     "execution_count": 22,
     "metadata": {},
     "output_type": "execute_result"
    }
   ],
   "source": [
    "news_dataset.shape"
   ]
  },
  {
   "cell_type": "code",
   "execution_count": 23,
   "id": "81e0f5fc-3157-496c-bb63-6992ba941424",
   "metadata": {},
   "outputs": [],
   "source": [
    "X=news_dataset['title']\n",
    "y=news_dataset['label']"
   ]
  },
  {
   "cell_type": "code",
   "execution_count": 24,
   "id": "c1d42201-d33d-42ae-bed6-9bc7537ed5f0",
   "metadata": {},
   "outputs": [
    {
     "name": "stdout",
     "output_type": "stream",
     "text": [
      "0        House Dem Aide: We Didn’t Even See Comey’s Let...\n",
      "1        FLYNN: Hillary Clinton, Big Woman on Campus - ...\n",
      "2                        Why the Truth Might Get You Fired\n",
      "3        15 Civilians Killed In Single US Airstrike Hav...\n",
      "4        Iranian woman jailed for fictional unpublished...\n",
      "                               ...                        \n",
      "20795    Rapper T.I.: Trump a ’Poster Child For White S...\n",
      "20796    N.F.L. Playoffs: Schedule, Matchups and Odds -...\n",
      "20797    Macy’s Is Said to Receive Takeover Approach by...\n",
      "20798    NATO, Russia To Hold Parallel Exercises In Bal...\n",
      "20799                            What Keeps the F-35 Alive\n",
      "Name: title, Length: 20800, dtype: object\n"
     ]
    }
   ],
   "source": [
    "print(X)"
   ]
  },
  {
   "cell_type": "code",
   "execution_count": 25,
   "id": "2ff82f06-b20a-4dee-af3c-67090673bd3a",
   "metadata": {},
   "outputs": [
    {
     "data": {
      "text/plain": [
       "558"
      ]
     },
     "execution_count": 25,
     "metadata": {},
     "output_type": "execute_result"
    }
   ],
   "source": [
    "X.isnull().sum()"
   ]
  },
  {
   "cell_type": "code",
   "execution_count": 26,
   "id": "477e68c7-9492-4463-8270-e5948e3c3be9",
   "metadata": {},
   "outputs": [],
   "source": [
    "X=X.fillna(' ')"
   ]
  },
  {
   "cell_type": "code",
   "execution_count": 27,
   "id": "b16a54f2-076b-437b-a400-04296d4a5c64",
   "metadata": {},
   "outputs": [],
   "source": [
    "vectorizer=TfidfVectorizer()"
   ]
  },
  {
   "cell_type": "code",
   "execution_count": 28,
   "id": "a5ce7b14-bf4c-4002-b046-1c06a630b642",
   "metadata": {},
   "outputs": [],
   "source": [
    "X=vectorizer.fit_transform(X)"
   ]
  },
  {
   "cell_type": "code",
   "execution_count": 29,
   "id": "18edc2d1-e263-423c-a676-59549a83ac06",
   "metadata": {},
   "outputs": [
    {
     "name": "stdout",
     "output_type": "stream",
     "text": [
      "  (0, 10247)\t0.16582278445384005\n",
      "  (0, 20010)\t0.3768145560270482\n",
      "  (0, 3457)\t0.33072883488177524\n",
      "  (0, 10326)\t0.3023289263011112\n",
      "  (0, 20360)\t0.28742097773915143\n",
      "  (0, 11216)\t0.26912270344212486\n",
      "  (0, 4029)\t0.22205447121783736\n",
      "  (0, 17169)\t0.24375630561009903\n",
      "  (0, 6878)\t0.24926429301181982\n",
      "  (0, 5568)\t0.2668922837502577\n",
      "  (0, 20993)\t0.19474659608460163\n",
      "  (0, 822)\t0.28502782091086426\n",
      "  (0, 5246)\t0.2706852894484654\n",
      "  (0, 9386)\t0.20041027857069765\n",
      "  (1, 2752)\t0.20822336759105836\n",
      "  (1, 3147)\t0.5009555435818291\n",
      "  (1, 13507)\t0.21060274898999704\n",
      "  (1, 21334)\t0.39360717600312567\n",
      "  (1, 2284)\t0.38480054625610366\n",
      "  (1, 3836)\t0.25244659620182697\n",
      "  (1, 9155)\t0.24935186416138613\n",
      "  (1, 7669)\t0.4821092709819335\n",
      "  (2, 7516)\t0.47346326792858956\n",
      "  (2, 21548)\t0.3069675962210073\n",
      "  (2, 8234)\t0.37337801936993537\n",
      "  :\t:\n",
      "  (20797, 1327)\t0.3521422215000689\n",
      "  (20797, 15718)\t0.3552849830462018\n",
      "  (20797, 2045)\t0.37587433732809516\n",
      "  (20797, 16785)\t0.2782265988101692\n",
      "  (20797, 19072)\t0.3521422215000689\n",
      "  (20797, 3040)\t0.16986229072095718\n",
      "  (20797, 10209)\t0.14711797135243715\n",
      "  (20797, 19486)\t0.09292089521946761\n",
      "  (20797, 21542)\t0.09320361542664038\n",
      "  (20797, 13064)\t0.09008594729781287\n",
      "  (20797, 19520)\t0.10309259952839489\n",
      "  (20797, 19334)\t0.07527441601260844\n",
      "  (20798, 6975)\t0.47257807978944466\n",
      "  (20798, 1868)\t0.47257807978944466\n",
      "  (20798, 9241)\t0.3667493368667659\n",
      "  (20798, 13942)\t0.47257807978944466\n",
      "  (20798, 12924)\t0.3303374946602197\n",
      "  (20798, 16707)\t0.23168304874364712\n",
      "  (20798, 19520)\t0.12021465841049195\n",
      "  (20798, 9724)\t0.13510492169072963\n",
      "  (20799, 258)\t0.555367915459697\n",
      "  (20799, 940)\t0.5317521158888292\n",
      "  (20799, 10634)\t0.5408967805381297\n",
      "  (20799, 21107)\t0.3185284474796143\n",
      "  (20799, 19334)\t0.12155849075822305\n"
     ]
    }
   ],
   "source": [
    "print(X)"
   ]
  },
  {
   "cell_type": "code",
   "execution_count": null,
   "id": "858fca80-0fe4-4ea7-936f-a894fcdaf22c",
   "metadata": {},
   "outputs": [],
   "source": []
  }
 ],
 "metadata": {
  "kernelspec": {
   "display_name": "Python 3 (ipykernel)",
   "language": "python",
   "name": "python3"
  },
  "language_info": {
   "codemirror_mode": {
    "name": "ipython",
    "version": 3
   },
   "file_extension": ".py",
   "mimetype": "text/x-python",
   "name": "python",
   "nbconvert_exporter": "python",
   "pygments_lexer": "ipython3",
   "version": "3.10.5"
  }
 },
 "nbformat": 4,
 "nbformat_minor": 5
}
